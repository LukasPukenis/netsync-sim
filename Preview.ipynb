{
 "cells": [
  {
   "cell_type": "code",
   "execution_count": 1,
   "id": "9feb297e-e234-4be5-be50-dff1f6771b24",
   "metadata": {},
   "outputs": [
    {
     "data": {
      "application/vnd.jupyter.widget-view+json": {
       "model_id": "64bfcb4d870f47c28d3615992b265625",
       "version_major": 2,
       "version_minor": 0
      },
      "text/plain": [
       "interactive(children=(Textarea(value='{\\n    \"node_a\": [\\n        {\\n            \"name\": \"Ab1\",\\n            \"…"
      ]
     },
     "metadata": {},
     "output_type": "display_data"
    },
    {
     "data": {
      "application/vnd.jupyter.widget-view+json": {
       "model_id": "d8b4a0459747429fad0ea291ad050a11",
       "version_major": 2,
       "version_minor": 0
      },
      "text/plain": [
       "Dropdown(description='Config file', options=('configs/5-eq-multiple.json', 'configs/2-eq.json', 'configs/3-eq.…"
      ]
     },
     "metadata": {},
     "output_type": "display_data"
    }
   ],
   "source": [
    "from ipywidgets import interact, interactive, fixed, interact_manual\n",
    "import ipywidgets as widgets\n",
    "\n",
    "import simulator\n",
    "\n",
    "import glob\n",
    "\n",
    "files = glob.glob(\"configs/*.json\")\n",
    "\n",
    "# now do a dropdown with files\n",
    "file = widgets.Dropdown(\n",
    "    options=files,\n",
    "    description=\"Config file\",\n",
    "    disabled=False,\n",
    ")\n",
    "\n",
    "# now do a text area for signals\n",
    "signals_cfg = widgets.Textarea(\n",
    "    \"{}\", layout=widgets.Layout(height=\"500px\", width=\"100%\")\n",
    ")\n",
    "\n",
    "\n",
    "def update_config(cfg_file: str):\n",
    "    cfg = open(cfg_file, \"r\").read()\n",
    "    signals_cfg.value = cfg\n",
    "\n",
    "\n",
    "file.observe(lambda x: update_config(x[\"new\"]), names=\"value\")\n",
    "\n",
    "# read file contents\n",
    "update_config(file.value)\n",
    "\n",
    "# more or less normal network conditions\n",
    "network_lat_min = widgets.IntSlider(\n",
    "    min=0, max=100, step=1, value=0, description=\"lat_min\"\n",
    ")\n",
    "network_lat_max = widgets.IntSlider(\n",
    "    min=0, max=10, step=1, value=1, description=\"lat_max\"\n",
    ")\n",
    "\n",
    "steps = widgets.IntSlider(min=100, max=5000, step=100, value=3000)\n",
    "radio_cooldown = widgets.IntSlider(min=0, max=100, step=5, value=20)\n",
    "batching = False\n",
    "\n",
    "interact(\n",
    "    simulator.run,\n",
    "    signals_cfg=signals_cfg,\n",
    "    steps=steps,\n",
    "    network_lat_min=network_lat_min,\n",
    "    network_lat_max=network_lat_max,\n",
    "    radio_cooldown=radio_cooldown,\n",
    "    batching=batching,\n",
    ")\n",
    "\n",
    "display(file)"
   ]
  },
  {
   "cell_type": "code",
   "execution_count": null,
   "id": "02de7eac-8778-4b48-94f2-ea5afb7f3861",
   "metadata": {},
   "outputs": [],
   "source": []
  }
 ],
 "metadata": {
  "kernelspec": {
   "display_name": "Python 3 (ipykernel)",
   "language": "python",
   "name": "python3"
  },
  "language_info": {
   "codemirror_mode": {
    "name": "ipython",
    "version": 3
   },
   "file_extension": ".py",
   "mimetype": "text/x-python",
   "name": "python",
   "nbconvert_exporter": "python",
   "pygments_lexer": "ipython3",
   "version": "3.11.7"
  }
 },
 "nbformat": 4,
 "nbformat_minor": 5
}
